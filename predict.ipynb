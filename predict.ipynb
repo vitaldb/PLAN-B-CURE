{
  "nbformat": 4,
  "nbformat_minor": 0,
  "metadata": {
    "colab": {
      "name": "predict.ipynb",
      "provenance": [],
      "authorship_tag": "ABX9TyOPSjSf5kV2ToGGZaPiLKVc",
      "include_colab_link": true
    },
    "kernelspec": {
      "name": "python3",
      "display_name": "Python 3"
    }
  },
  "cells": [
    {
      "cell_type": "markdown",
      "metadata": {
        "id": "view-in-github",
        "colab_type": "text"
      },
      "source": [
        "<a href=\"https://colab.research.google.com/github/vitaldb/PLAN-B-CURE/blob/main/predict.ipynb\" target=\"_parent\"><img src=\"https://colab.research.google.com/assets/colab-badge.svg\" alt=\"Open In Colab\"/></a>"
      ]
    },
    {
      "cell_type": "markdown",
      "metadata": {
        "id": "EVNIp6lwk5DD"
      },
      "source": [
        "# Prediction Model for Hepatocellular cardinoma in Hepatitis B patients with HBsAg seroclearance"
      ]
    },
    {
      "cell_type": "markdown",
      "source": [
        "## Download model and sample files"
      ],
      "metadata": {
        "id": "O5PmN3NMNrXY"
      }
    },
    {
      "cell_type": "code",
      "source": [
        "!wget https://github.com/vitaldb/PLAN-B-CURE/raw/main/model.json\n",
        "!wget https://github.com/vitaldb/PLAN-B-CURE/raw/main/sample.csv"
      ],
      "metadata": {
        "colab": {
          "base_uri": "https://localhost:8080/"
        },
        "id": "4PuRpTXONvY_",
        "outputId": "1ee50af9-2046-4e46-970d-c5c041940bd0"
      },
      "execution_count": 1,
      "outputs": [
        {
          "output_type": "stream",
          "name": "stdout",
          "text": [
            "--2024-07-15 03:04:57--  https://github.com/vitaldb/PLAN-B-CURE/raw/main/model.json\n",
            "Resolving github.com (github.com)... 140.82.114.3\n",
            "Connecting to github.com (github.com)|140.82.114.3|:443... connected.\n",
            "HTTP request sent, awaiting response... 302 Found\n",
            "Location: https://raw.githubusercontent.com/vitaldb/PLAN-B-CURE/main/model.json [following]\n",
            "--2024-07-15 03:04:57--  https://raw.githubusercontent.com/vitaldb/PLAN-B-CURE/main/model.json\n",
            "Resolving raw.githubusercontent.com (raw.githubusercontent.com)... 185.199.108.133, 185.199.109.133, 185.199.110.133, ...\n",
            "Connecting to raw.githubusercontent.com (raw.githubusercontent.com)|185.199.108.133|:443... connected.\n",
            "HTTP request sent, awaiting response... 200 OK\n",
            "Length: 44359 (43K) [text/plain]\n",
            "Saving to: ‘model.json’\n",
            "\n",
            "model.json          100%[===================>]  43.32K  --.-KB/s    in 0.01s   \n",
            "\n",
            "2024-07-15 03:04:57 (3.82 MB/s) - ‘model.json’ saved [44359/44359]\n",
            "\n",
            "--2024-07-15 03:04:57--  https://github.com/vitaldb/PLAN-B-CURE/raw/main/sample.csv\n",
            "Resolving github.com (github.com)... 140.82.113.3\n",
            "Connecting to github.com (github.com)|140.82.113.3|:443... connected.\n",
            "HTTP request sent, awaiting response... 302 Found\n",
            "Location: https://raw.githubusercontent.com/vitaldb/PLAN-B-CURE/main/sample.csv [following]\n",
            "--2024-07-15 03:04:57--  https://raw.githubusercontent.com/vitaldb/PLAN-B-CURE/main/sample.csv\n",
            "Resolving raw.githubusercontent.com (raw.githubusercontent.com)... 185.199.108.133, 185.199.109.133, 185.199.110.133, ...\n",
            "Connecting to raw.githubusercontent.com (raw.githubusercontent.com)|185.199.108.133|:443... connected.\n",
            "HTTP request sent, awaiting response... 200 OK\n",
            "Length: 338 [text/plain]\n",
            "Saving to: ‘sample.csv’\n",
            "\n",
            "sample.csv          100%[===================>]     338  --.-KB/s    in 0s      \n",
            "\n",
            "2024-07-15 03:04:57 (15.7 MB/s) - ‘sample.csv’ saved [338/338]\n",
            "\n"
          ]
        }
      ]
    },
    {
      "cell_type": "markdown",
      "source": [
        "## Sample code for single patient\n",
        "\n"
      ],
      "metadata": {
        "id": "UtZFeTVjNCD3"
      }
    },
    {
      "cell_type": "code",
      "metadata": {
        "id": "c8eh2Sx6k21M",
        "colab": {
          "base_uri": "https://localhost:8080/"
        },
        "outputId": "4bebc5ae-6ad0-4b84-95f8-ef985e5649bc"
      },
      "source": [
        "import xgboost as xgb\n",
        "import numpy as np\n",
        "\n",
        "# sample values\n",
        "male = 0\n",
        "age = 48\n",
        "alcohol = 1\n",
        "dm = 0\n",
        "lc = 1  # None for missing value\n",
        "plt = 172\n",
        "alb = 4.7\n",
        "\n",
        "model = xgb.Booster()\n",
        "model.load_model('model.json')\n",
        "x = np.array([male, age, alcohol, dm, lc, plt, alb]).astype(float)\n",
        "x = x[None, ...]\n",
        "x = xgb.DMatrix(x)\n",
        "y = model.predict(x)[0]\n",
        "\n",
        "print('score = {:.3f}'.format(y))"
      ],
      "execution_count": 2,
      "outputs": [
        {
          "output_type": "stream",
          "name": "stdout",
          "text": [
            "score = 0.257\n"
          ]
        }
      ]
    },
    {
      "cell_type": "markdown",
      "source": [
        "## Sample code using CSV file for multiple patients"
      ],
      "metadata": {
        "id": "MQqfAf4-NPOr"
      }
    },
    {
      "cell_type": "code",
      "source": [
        "import xgboost as xgb\n",
        "import numpy as np\n",
        "import pandas as pd\n",
        "\n",
        "model = xgb.Booster()\n",
        "model.load_model('model.json')\n",
        "\n",
        "df = pd.read_csv('sample.csv')\n",
        "x = df[['male', 'age', 'alcohol', 'dm', 'lc', 'plt', 'alb']].astype(float).values\n",
        "df['pred'] = model.predict(xgb.DMatrix(x))\n",
        "df.to_csv('prediction.csv')\n",
        "print(df)"
      ],
      "metadata": {
        "colab": {
          "base_uri": "https://localhost:8080/"
        },
        "id": "iEffyN41OqSe",
        "outputId": "23494a08-d8e2-4e48-b314-82dace6a3af2"
      },
      "execution_count": null,
      "outputs": [
        {
          "output_type": "stream",
          "name": "stdout",
          "text": [
            "   male  age  alcohol  dm  lc  plt  alb      pred\n",
            "0     0   56        0   0   0  163  4.7  0.121824\n",
            "1     0   68        0   1   0  233  5.0  0.148998\n",
            "2     1   59        0   1   0  149  4.8  0.163279\n",
            "3     1   46        0   0   0  218  4.0  0.185732\n",
            "4     0   53        0   0   0  127  3.9  0.195439\n",
            "5     1   63        0   1   0  211  4.2  0.218621\n",
            "6     1   76        0   0   0  171  4.0  0.226906\n",
            "7     1   78        0   1   0  168  4.2  0.246388\n",
            "8     1   57        1   1   0  141  4.1  0.302980\n",
            "9     1   85        1   1   1  222  3.2  0.422804\n"
          ]
        }
      ]
    }
  ]
}