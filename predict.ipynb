{
  "nbformat": 4,
  "nbformat_minor": 0,
  "metadata": {
    "colab": {
      "name": "predict.ipynb",
      "provenance": [],
      "authorship_tag": "ABX9TyOsjmI2mYgF9YgDWtBAJK7Q",
      "include_colab_link": true
    },
    "kernelspec": {
      "name": "python3",
      "display_name": "Python 3"
    }
  },
  "cells": [
    {
      "cell_type": "markdown",
      "metadata": {
        "id": "view-in-github",
        "colab_type": "text"
      },
      "source": [
        "<a href=\"https://colab.research.google.com/github/vitaldb/planc/blob/main/predict.ipynb\" target=\"_parent\"><img src=\"https://colab.research.google.com/assets/colab-badge.svg\" alt=\"Open In Colab\"/></a>"
      ]
    },
    {
      "cell_type": "markdown",
      "metadata": {
        "id": "EVNIp6lwk5DD"
      },
      "source": [
        "# Prediction Model for Hepatocellular cardinoma in Hepatitis B patients with HBsAg seroclearance"
      ]
    },
    {
      "cell_type": "markdown",
      "source": [
        "## Upgrade XGboost library"
      ],
      "metadata": {
        "id": "VOZ6R-8VNmCO"
      }
    },
    {
      "cell_type": "code",
      "metadata": {
        "id": "cHEggysIlr04",
        "colab": {
          "base_uri": "https://localhost:8080/",
          "height": 277
        },
        "outputId": "9e9d5be3-af99-47f8-ce13-a6601d9f3bd4"
      },
      "source": [
        "!pip uninstall xgboost -y\n",
        "!pip install xgboost"
      ],
      "execution_count": null,
      "outputs": [
        {
          "output_type": "stream",
          "name": "stdout",
          "text": [
            "Found existing installation: xgboost 1.6.2\n",
            "Uninstalling xgboost-1.6.2:\n",
            "  Successfully uninstalled xgboost-1.6.2\n",
            "Looking in indexes: https://pypi.org/simple, https://us-python.pkg.dev/colab-wheels/public/simple/\n",
            "Collecting xgboost\n",
            "  Using cached xgboost-1.6.2-py3-none-manylinux2014_x86_64.whl (255.9 MB)\n",
            "Requirement already satisfied: numpy in /usr/local/lib/python3.7/dist-packages (from xgboost) (1.21.6)\n",
            "Requirement already satisfied: scipy in /usr/local/lib/python3.7/dist-packages (from xgboost) (1.7.3)\n",
            "Installing collected packages: xgboost\n",
            "Successfully installed xgboost-1.6.2\n"
          ]
        },
        {
          "output_type": "display_data",
          "data": {
            "application/vnd.colab-display-data+json": {
              "pip_warning": {
                "packages": [
                  "xgboost"
                ]
              }
            }
          },
          "metadata": {}
        }
      ]
    },
    {
      "cell_type": "markdown",
      "source": [
        "## Download model and sample files"
      ],
      "metadata": {
        "id": "O5PmN3NMNrXY"
      }
    },
    {
      "cell_type": "code",
      "source": [
        "!wget https://github.com/vitaldb/planc/raw/main/model.json\n",
        "!wget https://github.com/vitaldb/planc/raw/main/sample.csv"
      ],
      "metadata": {
        "colab": {
          "base_uri": "https://localhost:8080/"
        },
        "id": "4PuRpTXONvY_",
        "outputId": "0594c60c-0e62-4b93-9bd5-024ba3d24a3a"
      },
      "execution_count": 1,
      "outputs": [
        {
          "output_type": "stream",
          "name": "stdout",
          "text": [
            "--2023-12-20 12:13:39--  https://github.com/vitaldb/planc/raw/main/model.json\n",
            "Resolving github.com (github.com)... 140.82.113.3\n",
            "Connecting to github.com (github.com)|140.82.113.3|:443... connected.\n",
            "HTTP request sent, awaiting response... 302 Found\n",
            "Location: https://raw.githubusercontent.com/vitaldb/planc/main/model.json [following]\n",
            "--2023-12-20 12:13:39--  https://raw.githubusercontent.com/vitaldb/planc/main/model.json\n",
            "Resolving raw.githubusercontent.com (raw.githubusercontent.com)... 185.199.111.133, 185.199.108.133, 185.199.110.133, ...\n",
            "Connecting to raw.githubusercontent.com (raw.githubusercontent.com)|185.199.111.133|:443... connected.\n",
            "HTTP request sent, awaiting response... 200 OK\n",
            "Length: 50630 (49K) [text/plain]\n",
            "Saving to: ‘model.json’\n",
            "\n",
            "model.json          100%[===================>]  49.44K  --.-KB/s    in 0.006s  \n",
            "\n",
            "2023-12-20 12:13:39 (7.48 MB/s) - ‘model.json’ saved [50630/50630]\n",
            "\n",
            "--2023-12-20 12:13:40--  https://github.com/vitaldb/planc/raw/main/sample.csv\n",
            "Resolving github.com (github.com)... 140.82.113.3\n",
            "Connecting to github.com (github.com)|140.82.113.3|:443... connected.\n",
            "HTTP request sent, awaiting response... 302 Found\n",
            "Location: https://raw.githubusercontent.com/vitaldb/planc/main/sample.csv [following]\n",
            "--2023-12-20 12:13:40--  https://raw.githubusercontent.com/vitaldb/planc/main/sample.csv\n",
            "Resolving raw.githubusercontent.com (raw.githubusercontent.com)... 185.199.108.133, 185.199.111.133, 185.199.110.133, ...\n",
            "Connecting to raw.githubusercontent.com (raw.githubusercontent.com)|185.199.108.133|:443... connected.\n",
            "HTTP request sent, awaiting response... 200 OK\n",
            "Length: 215 [text/plain]\n",
            "Saving to: ‘sample.csv’\n",
            "\n",
            "sample.csv          100%[===================>]     215  --.-KB/s    in 0s      \n",
            "\n",
            "2023-12-20 12:13:40 (11.6 MB/s) - ‘sample.csv’ saved [215/215]\n",
            "\n"
          ]
        }
      ]
    },
    {
      "cell_type": "markdown",
      "source": [
        "## Sample code for single patient\n",
        "\n"
      ],
      "metadata": {
        "id": "UtZFeTVjNCD3"
      }
    },
    {
      "cell_type": "code",
      "metadata": {
        "id": "c8eh2Sx6k21M",
        "colab": {
          "base_uri": "https://localhost:8080/"
        },
        "outputId": "df61f343-4018-4337-9d04-d359477ddff4"
      },
      "source": [
        "import xgboost as xgb\n",
        "import numpy as np\n",
        "\n",
        "# sample values\n",
        "male = 0\n",
        "age = 48\n",
        "alcohol = 1\n",
        "dm = 0\n",
        "lc = 1  # None for missing value\n",
        "plt = 172\n",
        "\n",
        "model = xgb.Booster()\n",
        "model.load_model('model.json')\n",
        "x = np.array([male, age, alcohol, dm, lc]).astype(float)\n",
        "x = x[None, ...]\n",
        "x = xgb.DMatrix(x)\n",
        "y = model.predict(x)[0]\n",
        "\n",
        "print('score = {:.3f}'.format(y))"
      ],
      "execution_count": 2,
      "outputs": [
        {
          "output_type": "stream",
          "name": "stdout",
          "text": [
            "score = 0.183\n"
          ]
        }
      ]
    },
    {
      "cell_type": "markdown",
      "source": [
        "## Sample code using CSV file for multiple patients"
      ],
      "metadata": {
        "id": "MQqfAf4-NPOr"
      }
    },
    {
      "cell_type": "code",
      "source": [
        "import xgboost as xgb\n",
        "import numpy as np\n",
        "import pandas as pd\n",
        "\n",
        "model = xgb.Booster()\n",
        "model.load_model('model.json')\n",
        "\n",
        "df = pd.read_csv('sample.csv')\n",
        "x = df[['male', 'age', 'alcohol', 'dm', 'lc', 'plt']].astype(float).values\n",
        "df['pred'] = model.predict(xgb.DMatrix(x))\n",
        "df.to_csv('prediction.csv')\n",
        "print(df)"
      ],
      "metadata": {
        "colab": {
          "base_uri": "https://localhost:8080/"
        },
        "id": "iEffyN41OqSe",
        "outputId": "c1b2249d-d782-4145-9908-1f8b949e7b58"
      },
      "execution_count": 3,
      "outputs": [
        {
          "output_type": "stream",
          "name": "stdout",
          "text": [
            "   no  male  age  alcohol  dm  lc  plt      pred\n",
            "0   1     1   33        0   1   0  167  0.070503\n",
            "1   2     0   56        0   1   0  168  0.057518\n",
            "2   3     0   62        1   0   1  164  0.148571\n",
            "3   4     1   46        1   0   0  317  0.111698\n",
            "4   5     1   54        1   0   1  122  0.248196\n",
            "5   6     1   30        0   1   0  198  0.050692\n",
            "6   7     1   48        0   0   1  111  0.211298\n",
            "7   8     0   58        1   0   1  138  0.162321\n",
            "8   9     0   50        0   0   1  154  0.063353\n",
            "9  10     0   65        0   0   0  187  0.084848\n"
          ]
        }
      ]
    }
  ]
}